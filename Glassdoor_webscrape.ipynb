{
 "cells": [
  {
   "cell_type": "code",
   "execution_count": 131,
   "metadata": {},
   "outputs": [],
   "source": [
    "from selenium import webdriver\n",
    "from selenium.webdriver.chrome.options import Options\n",
    "from selenium.webdriver.common.keys import Keys\n",
    "from selenium.common.exceptions import NoSuchElementException, ElementClickInterceptedException\n",
    "from bs4 import BeautifulSoup\n",
    "import time\n",
    "import pandas as pd"
   ]
  },
  {
   "cell_type": "code",
   "execution_count": 132,
   "metadata": {},
   "outputs": [],
   "source": [
    "# Chrome options to fix (unknown error: DevToolsActivePort file doesn't exist)\n",
    "chrome_options = Options()\n",
    "chrome_options.add_argument('--headless')\n",
    "chrome_options.add_argument('--no-sandbox')\n",
    "chrome_options.add_argument('--disable-dev-shm-usage')"
   ]
  },
  {
   "cell_type": "code",
   "execution_count": 133,
   "metadata": {},
   "outputs": [],
   "source": [
    "def get_job_info(location, role, num_jobs):\n",
    "    driver = webdriver.Chrome()\n",
    "    driver.set_window_size(1120, 1000)\n",
    "\n",
    "    url = 'https://www.glassdoor.com/Job/jobs.htm?sc.keyword=\"' + role + '\"&locKeyword=United%20States&jobType=all&fromAge=-1&minSalary=0&includeNoSalaryJobs=false&minRating=0.0&industryId=-1&sgocId=-1&seniorityType=all&companyId=-1&employerSizes=0&applicationType=0&remoteWorkType=0'\n",
    "    driver.get(url)\n",
    "    jobs = []\n",
    "    cities_states = []\n",
    "    salary_range = []\n",
    "    n = 1\n",
    "    date_posted_button = driver.find_element_by_xpath('//*[@id=\"filter_fromAge\"]')\n",
    "    date_posted_button.click()\n",
    "    \n",
    "    # Select Date Posted = 2 weeks\n",
    "    date_range_object = driver.find_element_by_xpath('//*[@id=\"PrimaryDropdown\"]/ul/li[5]')\n",
    "    date_range_object.click()\n",
    "    \n",
    "    #while len(jobs) < num_jobs:  #If true, should be still looking for new jobs.\n",
    "    # \n",
    "    while n < (num_jobs + 1):\n",
    "        time.sleep(3)\n",
    "        job_button = driver.find_element_by_xpath(f\"//*[@id='MainCol']/div[1]/ul/li[{n}]\")\n",
    "        job_button.click()\n",
    "        \n",
    "        # Attempt to close Sign Up Pop Up if any\n",
    "        try:\n",
    "            driver.find_element_by_xpath('//*[@id=\"JAModal\"]/div/div[2]/span').click()\n",
    "            print('closed sign up page')\n",
    "        except:\n",
    "            pass\n",
    "        \n",
    "        # Gather necessary information\n",
    "        try:\n",
    "            city_state_tag = driver.find_element_by_xpath(f\"//*[@id='MainCol']/div[1]/ul/li[{n}]/div[2]/div[2]/span\")\n",
    "            salary_range_tag = driver.find_element_by_xpath(f\"//*[@id='MainCol']/div[1]/ul/li[{n}]/div[2]/div[3]/div[1]/span\")\n",
    "            job_description_tag = driver.find_element_by_xpath(\"//*[@id='JobDescriptionContainer']\")\n",
    "\n",
    "        except:\n",
    "            pass\n",
    "            \n",
    "        try:\n",
    "            print(city_state_tag.text)\n",
    "            print(salary_range_tag.text)\n",
    "            html = job_description_tag.get_attribute('innerHTML')\n",
    "            #print(job_description_tag.get_attribute('innerHTML'))\n",
    "            soup = BeautifulSoup(html)\n",
    "            return soup\n",
    "            #job_description = soup.find('div', class_='jobDescriptioncontent desc')\n",
    "            #print(job_description)\n",
    "        except:\n",
    "            pass\n",
    "        \n",
    "        \n",
    "        n += 1"
   ]
  },
  {
   "cell_type": "code",
   "execution_count": 116,
   "metadata": {},
   "outputs": [
    {
     "name": "stdout",
     "output_type": "stream",
     "text": [
      "closed sign up page\n",
      "Herndon, VA\n",
      "$79K - $131K (Glassdoor est.)\n"
     ]
    },
    {
     "data": {
      "text/plain": [
       "<html><body><div class=\"css-jrwyhi e856ufb7\" id=\"JobDesc4071569648\"><div class=\"jobDescriptionContent desc\"><div>Job Description:<p><br/>ATCS is currently seeking a qualified individual to Data Scientist to work with our Emergency Management group. Qualified individuals will have a strong data sciences/mathematics background with related work experience and/or education. The position will be based in our Herndon, Northern Virginia office. Due to COVID-19, the work will be performed mostly remotely until the public health conditions improved. The role is full-time and includes health, vacation, sick days, and retirement benefits.</p><p>This candidate will support our clients with highly technical projects involving data analysis, data visualizations, database management, and programming in Visual Basic for Applications. You will have working knowledge of programming languages such as Java or Python. Experience with software such as Excel, Access, Azure, PowerBI, or Tableau also highly preferred.</p><br/><br/><br/><b>Job Requirements:</b><p><br/>Eligible candidates must be or have:</p><ul><li>US citizens</li><li>Bachelor's degree in an applicable field: Data Science, Mathematics, Statistics, Data Analytics, etc.</li><li>The ability to manage multiple projects and resources using web-based tools and databases, including above-average proficiency with MS Office products</li><li>Excellent oral, verbal, and written communication skills</li><li>Any exposure to FEMA programs and/or disaster operations a huge plus, but not required</li></ul><br/><p></p><p><b>ATCS, PLC is an affirmative action and equal opportunity employer. All qualified applicants will receive consideration for employment without regard to race, color, religion, sex, disability, age, sexual orientation, gender identity, national origin, veteran status, or genetic information. ATCS, PLC is committed to providing access, equal opportunity and reasonable accommodation for individuals with disabilities in employment, its services, programs, and activities. To request reasonable accommodation, contact Caitlin Crockett, MBA, SPHR (Lead Recruiter) at ccrockett@atcsplc.com</b></p></div><p></p></div></div><div class=\"css-t3xrds e856ufb5\">Show More  <span class=\"SVGInline\"><svg class=\"SVGInline-svg\" height=\"24\" viewbox=\"0 0 24 24\" width=\"24\" xmlns=\"http://www.w3.org/2000/svg\"><path d=\"M4.4 9.25l7.386 7.523a1 1 0 001.428 0L20.6 9.25c.5-.509.5-1.324 0-1.833a1.261 1.261 0 00-1.8 0l-6.3 6.416-6.3-6.416a1.261 1.261 0 00-1.8 0c-.5.509-.5 1.324 0 1.833z\" fill=\"currentColor\" fill-rule=\"evenodd\"></path></svg></span></div></body></html>"
      ]
     },
     "execution_count": 116,
     "metadata": {},
     "output_type": "execute_result"
    }
   ],
   "source": [
    "output = get_job_info('United States', \"data scientist\", 5)\n",
    "output"
   ]
  },
  {
   "cell_type": "code",
   "execution_count": 134,
   "metadata": {},
   "outputs": [
    {
     "data": {
      "text/plain": [
       "\"Job Description:ATCS is currently seeking a qualified individual to Data Scientist to work with our Emergency Management group. Qualified individuals will have a strong data sciences/mathematics background with related work experience and/or education. The position will be based in our Herndon, Northern Virginia office. Due to COVID-19, the work will be performed mostly remotely until the public health conditions improved. The role is full-time and includes health, vacation, sick days, and retirement benefits.This candidate will support our clients with highly technical projects involving data analysis, data visualizations, database management, and programming in Visual Basic for Applications. You will have working knowledge of programming languages such as Java or Python. Experience with software such as Excel, Access, Azure, PowerBI, or Tableau also highly preferred.Job Requirements:Eligible candidates must be or have:US citizensBachelor's degree in an applicable field: Data Science, Mathematics, Statistics, Data Analytics, etc.The ability to manage multiple projects and resources using web-based tools and databases, including above-average proficiency with MS Office productsExcellent oral, verbal, and written communication skillsAny exposure to FEMA programs and/or disaster operations a huge plus, but not requiredATCS, PLC is an affirmative action and equal opportunity employer. All qualified applicants will receive consideration for employment without regard to race, color, religion, sex, disability, age, sexual orientation, gender identity, national origin, veteran status, or genetic information. ATCS, PLC is committed to providing access, equal opportunity and reasonable accommodation for individuals with disabilities in employment, its services, programs, and activities. To request reasonable accommodation, contact Caitlin Crockett, MBA, SPHR (Lead Recruiter) at ccrockett@atcsplc.com\""
      ]
     },
     "execution_count": 134,
     "metadata": {},
     "output_type": "execute_result"
    }
   ],
   "source": [
    "output.find('div', class_='jobDescriptionContent desc').text"
   ]
  },
  {
   "cell_type": "code",
   "execution_count": 135,
   "metadata": {},
   "outputs": [
    {
     "data": {
      "text/plain": [
       "[<p><br/>ATCS is currently seeking a qualified individual to Data Scientist to work with our Emergency Management group. Qualified individuals will have a strong data sciences/mathematics background with related work experience and/or education. The position will be based in our Herndon, Northern Virginia office. Due to COVID-19, the work will be performed mostly remotely until the public health conditions improved. The role is full-time and includes health, vacation, sick days, and retirement benefits.</p>,\n",
       " <p>This candidate will support our clients with highly technical projects involving data analysis, data visualizations, database management, and programming in Visual Basic for Applications. You will have working knowledge of programming languages such as Java or Python. Experience with software such as Excel, Access, Azure, PowerBI, or Tableau also highly preferred.</p>,\n",
       " <p><br/>Eligible candidates must be or have:</p>,\n",
       " <p></p>,\n",
       " <p><b>ATCS, PLC is an affirmative action and equal opportunity employer. All qualified applicants will receive consideration for employment without regard to race, color, religion, sex, disability, age, sexual orientation, gender identity, national origin, veteran status, or genetic information. ATCS, PLC is committed to providing access, equal opportunity and reasonable accommodation for individuals with disabilities in employment, its services, programs, and activities. To request reasonable accommodation, contact Caitlin Crockett, MBA, SPHR (Lead Recruiter) at ccrockett@atcsplc.com</b></p>,\n",
       " <p></p>]"
      ]
     },
     "execution_count": 135,
     "metadata": {},
     "output_type": "execute_result"
    }
   ],
   "source": [
    "output.find_all('p')"
   ]
  },
  {
   "cell_type": "code",
   "execution_count": 136,
   "metadata": {},
   "outputs": [
    {
     "data": {
      "text/plain": [
       "[<ul><li>US citizens</li><li>Bachelor's degree in an applicable field: Data Science, Mathematics, Statistics, Data Analytics, etc.</li><li>The ability to manage multiple projects and resources using web-based tools and databases, including above-average proficiency with MS Office products</li><li>Excellent oral, verbal, and written communication skills</li><li>Any exposure to FEMA programs and/or disaster operations a huge plus, but not required</li></ul>]"
      ]
     },
     "execution_count": 136,
     "metadata": {},
     "output_type": "execute_result"
    }
   ],
   "source": [
    "output.find_all('ul')"
   ]
  },
  {
   "cell_type": "code",
   "execution_count": null,
   "metadata": {},
   "outputs": [],
   "source": []
  },
  {
   "cell_type": "code",
   "execution_count": null,
   "metadata": {},
   "outputs": [],
   "source": []
  },
  {
   "cell_type": "code",
   "execution_count": null,
   "metadata": {},
   "outputs": [],
   "source": []
  },
  {
   "cell_type": "code",
   "execution_count": null,
   "metadata": {},
   "outputs": [],
   "source": []
  },
  {
   "cell_type": "code",
   "execution_count": 99,
   "metadata": {
    "scrolled": false
   },
   "outputs": [
    {
     "name": "stdout",
     "output_type": "stream",
     "text": [
      "closed sign up page\n",
      "Herndon, VA\n",
      "$79K - $131K (Glassdoor est.)\n",
      "<div id=\"JobDesc4071569648\" class=\"css-jrwyhi e856ufb7\"><div class=\"jobDescriptionContent desc\"><div>Job Description:<p><br>ATCS is currently seeking a qualified individual to Data Scientist to work with our Emergency Management group. Qualified individuals will have a strong data sciences/mathematics background with related work experience and/or education. The position will be based in our Herndon, Northern Virginia office. Due to COVID-19, the work will be performed mostly remotely until the public health conditions improved. The role is full-time and includes health, vacation, sick days, and retirement benefits.</p><p>This candidate will support our clients with highly technical projects involving data analysis, data visualizations, database management, and programming in Visual Basic for Applications. You will have working knowledge of programming languages such as Java or Python. Experience with software such as Excel, Access, Azure, PowerBI, or Tableau also highly preferred.</p><br><br><br><b>Job Requirements:</b><p><br>Eligible candidates must be or have:</p><ul><li>US citizens</li><li>Bachelor's degree in an applicable field: Data Science, Mathematics, Statistics, Data Analytics, etc.</li><li>The ability to manage multiple projects and resources using web-based tools and databases, including above-average proficiency with MS Office products</li><li>Excellent oral, verbal, and written communication skills</li><li>Any exposure to FEMA programs and/or disaster operations a huge plus, but not required</li></ul><br><p></p><p><b>ATCS, PLC is an affirmative action and equal opportunity employer. All qualified applicants will receive consideration for employment without regard to race, color, religion, sex, disability, age, sexual orientation, gender identity, national origin, veteran status, or genetic information. ATCS, PLC is committed to providing access, equal opportunity and reasonable accommodation for individuals with disabilities in employment, its services, programs, and activities. To request reasonable accommodation, contact Caitlin Crockett, MBA, SPHR (Lead Recruiter) at ccrockett@atcsplc.com</b></p></div><p></p></div></div><div class=\"css-t3xrds e856ufb5\">Show More  <span class=\"SVGInline\"><svg class=\"SVGInline-svg\" xmlns=\"http://www.w3.org/2000/svg\" width=\"24\" height=\"24\" viewBox=\"0 0 24 24\"><path d=\"M4.4 9.25l7.386 7.523a1 1 0 001.428 0L20.6 9.25c.5-.509.5-1.324 0-1.833a1.261 1.261 0 00-1.8 0l-6.3 6.416-6.3-6.416a1.261 1.261 0 00-1.8 0c-.5.509-.5 1.324 0 1.833z\" fill-rule=\"evenodd\" fill=\"currentColor\"></path></svg></span></div>\n",
      "closed sign up page\n",
      "Chevy Chase, MD\n",
      "$92K - $161K (Glassdoor est.)\n",
      "<div id=\"JobDesc3788094347\" class=\"css-jrwyhi e856ufb7\"><div class=\"jobDescriptionContent desc\"><div><p>Working out of our Chevy Chase, MD/Washington DC office, GEICO's Data Science team uses predictive analytics and innovative machine learning models to create value from data. We solve problems across GEICO, from Marketing to Claims and Underwriting, and are responsible for developing and driving strategic modeling initiatives. We see our projects through the entire data science lifecycle, from problem definition to data exploration, data munging, modeling, analysis, and deployment into production systems. We maintain a close partnership with IT to ensure that our models can be deployed quickly and monitored in a flexible deployment framework.</p><p></p><div><p>As a <b>Principal Data Scientist</b>, you will work with a talented and diverse team of data scientists with responsibility to:</p><ul><li><div>Coordinate project teams of data scientists and supporting roles, acting as the primary point of contact in delivering end-to-end innovative, high-quality data solutions with measurable business value</div></li><li><div>Build relationships with partner teams, frame and structure questions, as well as summarize and present key insights to both technical and non-technical audiences</div></li><li><div>Collaborate with stakeholders to gather, consolidate, and validate business expertise throughout the project lifecycle</div></li><li><div>Work with analysts to document requirements, assumptions, and methodology including validation, testing, and implementation strategies</div></li><li><div>Coach, mentor, and guide data scientists to advance their career development in both technical and non-technical areas</div></li><li><div>Facilitate regular peer reviews and conduct performance reviews</div></li><li><div>Assist management with strategic efforts, portfolio management, and value delivery</div></li><li><div>Assist management in the recruiting process in order to build a high-functioning Data Science team</div></li><li><div>Apply project/team leadership and problem-solving skills to establish and promote best practices within the team</div></li><li><div>Develop a high-level understanding of cutting-edge data science tools and techniques</div></li></ul><p></p><div><p><b>Expected Qualifications:</b></p></div><p></p><ul><li><div>Advanced degree in a quantitative discipline, such as statistics, data science, computer science, mathematics, engineering, physics, etc. Advanced degree or certification in analytics-related field strongly preferred</div></li><li><div>5+ years of experience in a quantitative analyst and/or leadership role with 3+ years leading a team of quantitative analysts. Experience leading an Agile team preferred</div></li><li><div>Demonstrated leadership competencies, including teambuilding, creative problem-solving, flexibility, and willingness to challenge the status quo</div></li><li><div>Excellent communication, facilitation, and coaching skills in a business context and as it applies to team and project management</div></li><li><div>Demonstrated experience in influencing business decisions and driving business value</div></li><li><div>Working experience with analytical modeling tools such as R or Python, predictive modeling, machine learning, experimental design, and AB testing strongly preferred</div></li><li>Completion of an analytical product critique may be required</li></ul><p></p><p><b>Highly Preferred Qualifications:</b></p><ul><li><div>Experience in Telematics, Internet of Things - IoT, and/or Sensor Data</div></li></ul><p></p><p>Note: The safety of our associates, both current and future, is GEICO’s highest priority. At this time, most of our associates are working remotely due to the current COVID-19 pandemic. Candidates who are selected for this position will be trained remotely and must be able to work from home in a designated work area. Once GEICO determines it is safe for associates to return to the office, candidates may be <b>required to work in our Chevy Chase, MD office</b>.</p><p></p><div><p><b>Benefits</b>:</p><p>As a <b>Principal Data Scientist</b>, you’ll enjoy our <b>Total Rewards Program</b>* to help secure your financial future and preserve your health and well-being, including:</p><ul><li>Premier Medical, Dental and Vision Insurance with no waiting period**</li><li>Paid Vacation, Sick and Parental Leave</li><li>401(k) Plan with Profit Sharing</li><li>Tuition Reimbursement</li><li>Paid Training and Licensures</li></ul></div><p></p><ul><li>Benefits may be different by location. Benefit eligibility requirements vary and may include length of service.</li></ul><p>**Coverage begins with the pay period after hire date. Must enroll in New Hire Benefits within 30 days of the date of hire for coverage to take effect.</p><p></p><p><b>EEO Statement:</b><br>The equal employment opportunity policy of the GEICO Companies provides for a fair and equal employment opportunity for all associates and job applicants regardless of race, color, religious creed, national origin, ancestry, age, gender, pregnancy, sexual orientation, gender identity, marital status, familial status, disability or genetic information, in compliance with applicable federal, state and local law. GEICO hires and promotes individuals solely on the basis of their qualifications for the job to be filled.</p></div><p></p><p>GEICO reasonably accommodates qualified individuals with disabilities to enable them to receive equal employment opportunity and/or perform the essential functions of the job, unless the accommodation would impose an undue hardship to the Company. This applies to all applicants and associates. GEICO also provides a work environment in which each associate is able to be productive and work to the best of their ability. We do not condone or tolerate an atmosphere of intimidation or harassment. We expect and require the cooperation of all associates in maintaining an atmosphere free from discrimination and harassment with mutual respect by and for all associates and applicants.</p><p></p><p>#LI-JW1</p></div></div><p><p>Start your job application: click Apply Now</p></p></div><div class=\"css-t3xrds e856ufb5\">Show More  <span class=\"SVGInline\"><svg class=\"SVGInline-svg\" xmlns=\"http://www.w3.org/2000/svg\" width=\"24\" height=\"24\" viewBox=\"0 0 24 24\"><path d=\"M4.4 9.25l7.386 7.523a1 1 0 001.428 0L20.6 9.25c.5-.509.5-1.324 0-1.833a1.261 1.261 0 00-1.8 0l-6.3 6.416-6.3-6.416a1.261 1.261 0 00-1.8 0c-.5.509-.5 1.324 0 1.833z\" fill-rule=\"evenodd\" fill=\"currentColor\"></path></svg></span></div>\n"
     ]
    },
    {
     "name": "stdout",
     "output_type": "stream",
     "text": [
      "Remote\n",
      "$92K - $161K (Glassdoor est.)\n",
      "Lorton, VA\n",
      "$120K (Glassdoor est.)\n",
      "<div id=\"JobDesc3815051506\" class=\"css-jrwyhi e856ufb7\"><div class=\"jobDescriptionContent desc\"><div><h1><strong>About Netskope</strong></h1><br><br>Today, there are more data and users outside the enterprise than inside, causing the network perimeter as we know it to dissolve. We realized a new perimeter was needed, one that is built in the cloud and follows and protects data wherever it goes, so we started Netskope to redefine Cloud, Network and Data Security.<br>\n",
      "<div>Since 2012, we have built the market-leading cloud security company and an award-winning culture powered by hundreds of employees spread across offices in Santa Clara, San Francisco, Seattle, Bangalore, London, Melbourne, and Tokyo. Our core values are openness, honesty, and transparency, and we purposely developed our open desk layouts and large meeting spaces to support and promote partnerships, collaboration, and teamwork. From catered lunches and office celebrations to employee recognition events (pre and hopefully post-Covid) and social professional groups such as the Awesome Women of Netskope (AWON), we strive to keep work fun, supportive and interactive.Visit us at Netskope Careers and follow us on Twitter @Netskope and Facebook.</div>\n",
      "</div><h2><strong>Data Scientist</strong></h2><br><br>Within Netskope Engineering, the Security Services organization is responsible for building core security products and features, such as Data Loss Prevention, Malware and Threat Prevention, Cloud Confidence Index, Breach and Anomaly Detection. We apply Artificial Intelligence and Machine Learning technologies across Netskope cloud security platform. We are looking for talented data scientists with security domain knowledge. A successful candidate has deep technical expertise in applying AI/ML technologies in security applications and/or adjacent domains, ideally has been through the entire lifecycle of an award winning security product, and must be passionate about cloud security. You will have the opportunity to work with a team of talented engineers, researchers and data scientists to solve the most challenging cloud security problems.<br><br><h3><strong>Responsibilities:</strong></h3>\n",
      "\n",
      "\n",
      "<ul>\n",
      "<li>Identify strong AI/ML use cases in cloud security, data security and adjacent domains, leveraging Netskope's rich set of data sources;</li>\n",
      "<li>Define scalable data acquisition and labeling strategy for specific use cases;</li>\n",
      "<li>Work with data engineers to retrieve, clean and normalize data. Ensure scalable and continuous high-quality data stream;</li>\n",
      "<li>Work closely with threat research and development team in feature engineering. Make sure high-quality feature sets are chosen in a systematic way;</li>\n",
      "<li>Select ML models for defined use cases. Implement KPIs to ensure optimal algorithms and results;</li>\n",
      "<li>Conduct strict internal testing to ensure high efficacy, low false positive and false negative rate;</li>\n",
      "<li>Interpret results and communicate findings;</li>\n",
      "<li>Document use case, data acquisition, feature engineering, training, validation, deployment, future improvement opportunity and other important aspects;</li>\n",
      "<li>Work closely with development and QE team in productization;</li>\n",
      "<li>Be an evangelist of AI/ML within Netskope. Promote AI/ML wherever applicable, beyond security use cases;</li>\n",
      "<li>Collaborate with data analytics team to define new platform requirements and continuously improve our horizontally scalable data lake.</li>\n",
      "</ul>\n",
      "\n",
      "<strong><h3>Qualifications/Requirements:</h3>\n",
      "<br><br>\n",
      "</strong>\n",
      "\n",
      "\n",
      "<ul>\n",
      "<li>First of all, must have true startup spirit. Be willing to wear multiple hats and deliver end-to-end;</li>\n",
      "<li>Ability of thinking out-of-box and evaluating results based on customer value;</li>\n",
      "<li>5+ years of industry experience in applying AI/ML, preferably on well-known security products or services, such as malware detection, anomaly detection, security analytics and data security;</li>\n",
      "<li>Experience of applying AI/ML in more than one domains highly desirable;</li>\n",
      "<li>Hands-on experience with relevant technology stacks such as CUDA, Python, R, Spark, Flink, Tensorflow;</li>\n",
      "<li>Hands-on experience using modern big data pipeline;</li>\n",
      "<li>Natural language process (NLP) and data mining experience highly desirable;</li>\n",
      "<li>Security research experience and strong security domain knowledge highly desirable;</li>\n",
      "<li>Energetic self-starter, with the desire to work in a dynamic fast-paced environment;</li>\n",
      "<li>Excellent verbal and written communication skills;</li>\n",
      "<li>Ability to influence without authority</li>\n",
      "</ul>\n",
      "\n",
      "<strong><h3>Education:</h3>\n",
      "<br><br>\n",
      "</strong>\n",
      "\n",
      "\n",
      "<ul>\n",
      "<li>PhD in Computer Science, Statistics, Electrical Engineering or equivalent technical degree.</li>\n",
      "</ul>\n",
      "#LI-NW1\n",
      "<br><br>\n",
      "#LI-REMOTE</div><p><p>To apply to this job, click Easy Apply</p></p></div><div class=\"css-t3xrds e856ufb5\">Show More  <span class=\"SVGInline\"><svg class=\"SVGInline-svg\" xmlns=\"http://www.w3.org/2000/svg\" width=\"24\" height=\"24\" viewBox=\"0 0 24 24\"><path d=\"M4.4 9.25l7.386 7.523a1 1 0 001.428 0L20.6 9.25c.5-.509.5-1.324 0-1.833a1.261 1.261 0 00-1.8 0l-6.3 6.416-6.3-6.416a1.261 1.261 0 00-1.8 0c-.5.509-.5 1.324 0 1.833z\" fill-rule=\"evenodd\" fill=\"currentColor\"></path></svg></span></div>\n",
      "Plano, TX\n",
      "$67K - $110K (Glassdoor est.)\n",
      "<div id=\"JobDesc4046505096\" class=\"css-jrwyhi e856ufb7\"><div class=\"jobDescriptionContent desc\"><div><p><b>Who Are We?</b></p><p>QinetiQ Inc. is a leading innovator with over 25 years of experience rapidly developing advanced C5ISR sensor solutions and is a renowned world leader in robotics and autonomy.</p><p>The combined QinetiQ U.S. business unit brings capabilities across the full lifecycle of technology development from applied research and development to rapid prototyping, testing, fielding, and sustainment. Our expertise with unmanned platforms, broad sensing modalities, and cross-domain interoperability ensures that we deliver integrated solutions for Warfighter dominance in all phases of combat.</p><p>We are a world-class team of professionals who deliver next generation technology and products in robotic and autonomous platforms and systems, ground systems, soldier systems, maritime systems, airborne sensors and payloads, processing and exploitation capabilities, and integrated C2 solutions. Much of our work contributes to innovative research in ﬁelds such as sensor science, signal processing, data fusion, artiﬁcial intelligence (AI), machine learning (ML), and augmented reality (AR).</p><p>Our customers are always our number one priority and we consistently deliver Mission-Led Innovation to empower and protect our Defense and Security forces in the U.S. and abroad.</p><p><b>Your Contribution to Our Mission:</b></p><p>The Data Scientist will be responsible for developing algorithms and data processing methods for the analysis of real time data collected by our sensor technologies. Duties will include the following:</p><ul><li>Recommend, participate, and manage in-house methods such as algorithm development and internal research and development (IRAD) projects. Manage and expand our in-house algorithm suite tailored to our existing sensor programs and help pave the way for the next generation of sensors and CONOPs</li><li>Develop data flows from sensor initialization, calibration, and triggering to actionable intelligence products with minimal time delay, processing overhead, and false alarms.</li><li>Develop methods for sorting massive amounts of real-time and archived intelligence data feeds for rapid decision making in sensor to shooter applications.</li><li>Develop methods for automated triage of the data with recommended actions prioritized based on ML and other techniques.</li><li>Develop processing applications for real time exploitation of hyperspectral, radar, LIDAR, VNIR-LWIR video, and other imagery types.</li><li>Develop new and innovative algorithms to drive data processing and other sensor data analysis.</li><li>Develop interfaces and workflows for data from multiple data source types.</li><li>Work with machine learning (ML) engineers, develop models and software, become familiar with data structures, data and image analytics algorithms, data complexity, and computer architectures.</li><li>Work with program managers and engineering/science leads to develop new approaches and new understanding of complex problems and solutions.</li><li>Produce test plans and participate in data collections to optimize the process flow and algorithmic parameters.</li></ul><p><b>To Land This Job, You Need:</b></p><ul><li>BS degree in Physics</li><li>MS degree in Data Science, Machine Learning, Software Engineering, Computer Engineering or Computer Science.</li><li>Experience/expertise applying mathematical principles via scientific computing solutions (e.g., NumPy, SciPy, MatPlotLib, MATLAB)</li><li>Experience/expertise designing, developing and implementing NN (Neural Networks), CNN (Convolutional Neural Networks), SVM (Support Vector Machines)</li><li>Experience/expertise with ML libraries/tools (e.g., scikit-learn, Theano, H2O, TensorFlow, YOLO, Shogun)</li><li>Experience/expertise with various programming/scripting languages and environments (e.g., C, C++, C#/.NET, Python, Anaconda, XML, Java, Open CV, SQL, Hadoop)</li><li>Excellent verbal and written communication skills</li></ul><div><b>Job Type:</b> Full Time</div><p><b>Clearance Level Must Be Able to Obtain:</b></p><p>DOD Secret</p><p><b>Why QinetiQ Inc.?</b></p><ul><li>Your work will contribute to the protection of American Warfighters and Security Forces.</li><li>Opportunity to work with cutting edge technology.</li><li>Extensive opportunities for continuous learning, professional growth and advancement.</li><li>We only hire the best! No matter if you are entry or senior level, you will have the opportunity learn from some of the best in the industry.</li><li>We have fun! We regularly have company events, from luncheons and costume contests to golf tournaments.</li><li>We care about YOU and YOUR FAMILY. We offer competitive benefits and health insurance options.</li></ul><p><b>No One Has Time for Long Job Applications!</b></p><p>We completely understand. That is why we have made the application process easy. We promise. This will be simple.</p><p><b>Accessibility/Accommodation:</b></p><p>If because of a medical condition or disability, you need a reasonable accommodation for any part of the employment process, please send an e-mail to staffing@us.qinetiq.com or call (540) 658-2720 Opt 4 and let us know the nature of your request and your contact information.</p><p>QinetiQ Inc. is an Equal Opportunity/Affirmative Action employer. All qualified applicants will receive consideration for employment without regard to race, age, color, religion, creed, sex, sexual orientation, gender identity, national origin, disability, or protected Veteran status.</p></div></div></div><div class=\"css-t3xrds e856ufb5\">Show More  <span class=\"SVGInline\"><svg class=\"SVGInline-svg\" xmlns=\"http://www.w3.org/2000/svg\" width=\"24\" height=\"24\" viewBox=\"0 0 24 24\"><path d=\"M4.4 9.25l7.386 7.523a1 1 0 001.428 0L20.6 9.25c.5-.509.5-1.324 0-1.833a1.261 1.261 0 00-1.8 0l-6.3 6.416-6.3-6.416a1.261 1.261 0 00-1.8 0c-.5.509-.5 1.324 0 1.833z\" fill-rule=\"evenodd\" fill=\"currentColor\"></path></svg></span></div>\n"
     ]
    }
   ],
   "source": [
    "#This line will open a new chrome window and start the scraping.\n",
    "get_job_info('United States', \"data scientist\", 5)"
   ]
  },
  {
   "cell_type": "code",
   "execution_count": null,
   "metadata": {},
   "outputs": [],
   "source": []
  }
 ],
 "metadata": {
  "kernelspec": {
   "display_name": "Python 3",
   "language": "python",
   "name": "python3"
  },
  "language_info": {
   "codemirror_mode": {
    "name": "ipython",
    "version": 3
   },
   "file_extension": ".py",
   "mimetype": "text/x-python",
   "name": "python",
   "nbconvert_exporter": "python",
   "pygments_lexer": "ipython3",
   "version": "3.7.4"
  }
 },
 "nbformat": 4,
 "nbformat_minor": 2
}
