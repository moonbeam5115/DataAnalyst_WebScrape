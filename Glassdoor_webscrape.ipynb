{
 "cells": [
  {
   "cell_type": "code",
   "execution_count": 76,
   "metadata": {},
   "outputs": [],
   "source": [
    "from selenium import webdriver\n",
    "from selenium.webdriver.chrome.options import Options\n",
    "from selenium.webdriver.common.keys import Keys\n",
    "from selenium.common.exceptions import NoSuchElementException, ElementClickInterceptedException\n",
    "import time\n",
    "import pandas as pd"
   ]
  },
  {
   "cell_type": "code",
   "execution_count": 77,
   "metadata": {},
   "outputs": [],
   "source": [
    "# Chrome options to fix (unknown error: DevToolsActivePort file doesn't exist)\n",
    "chrome_options = Options()\n",
    "chrome_options.add_argument('--headless')\n",
    "chrome_options.add_argument('--no-sandbox')\n",
    "chrome_options.add_argument('--disable-dev-shm-usage')"
   ]
  },
  {
   "cell_type": "code",
   "execution_count": 78,
   "metadata": {},
   "outputs": [],
   "source": [
    "def get_job_info(location, role, num_jobs):\n",
    "    driver = webdriver.Chrome()\n",
    "    driver.set_window_size(1120, 1000)\n",
    "\n",
    "    url = 'https://www.glassdoor.com/Job/jobs.htm?sc.keyword=\"' + role + '\"&locKeyword=United%20States&jobType=all&fromAge=-1&minSalary=0&includeNoSalaryJobs=false&minRating=0.0&industryId=-1&sgocId=-1&seniorityType=all&companyId=-1&employerSizes=0&applicationType=0&remoteWorkType=0'\n",
    "    driver.get(url)\n",
    "    jobs = []\n",
    "    cities_states = []\n",
    "    salary_range = []\n",
    "    n = 1\n",
    "    date_posted_button = driver.find_element_by_xpath('//*[@id=\"filter_fromAge\"]')\n",
    "    date_posted_button.click()\n",
    "    \n",
    "    # Select Date Posted = 2 weeks\n",
    "    date_range_object = driver.find_element_by_xpath('//*[@id=\"PrimaryDropdown\"]/ul/li[5]')\n",
    "    date_range_object.click()\n",
    "    \n",
    "    #while len(jobs) < num_jobs:  #If true, should be still looking for new jobs.\n",
    "    # \n",
    "    while n < (num_jobs + 1):\n",
    "        time.sleep(3)\n",
    "        job_button = driver.find_element_by_xpath(f\"//*[@id='MainCol']/div[1]/ul/li[{n}]\")\n",
    "        job_button.click()\n",
    "        \n",
    "        # Attempt to close Sign Up Pop Up if any\n",
    "        try:\n",
    "            driver.find_element_by_xpath('//*[@id=\"JAModal\"]/div/div[2]/span').click()\n",
    "            print('closed sign up page')\n",
    "        except:\n",
    "            pass\n",
    "        \n",
    "        # Gather necessary information\n",
    "        try:\n",
    "            city_state_tag = driver.find_element_by_xpath(f\"//*[@id='MainCol']/div[1]/ul/li[{n}]/div[2]/div[2]/span\")\n",
    "            salary_range_tag = driver.find_element_by_xpath(f\"//*[@id='MainCol']/div[1]/ul/li[{n}]/div[2]/div[3]/div[1]/span\")\n",
    "            job_description_tag = driver.find_elements_by_class_name(\"jobDescriptionContent desc\")\n",
    "\n",
    "        except:\n",
    "            pass\n",
    "            \n",
    "        print(city_state_tag.text)\n",
    "        print(salary_range_tag.text)\n",
    "        print(len(job_description_tag))\n",
    "        \n",
    "        \n",
    "        n += 1"
   ]
  },
  {
   "cell_type": "code",
   "execution_count": 74,
   "metadata": {},
   "outputs": [
    {
     "name": "stdout",
     "output_type": "stream",
     "text": [
      "closed sign up page\n",
      "Rockville, MD\n",
      "$72K - $120K (Glassdoor est.)\n",
      "0\n",
      "closed sign up page\n",
      "Portland, ME\n",
      "$65K - $105K (Glassdoor est.)\n",
      "0\n",
      "Atlanta, GA\n",
      "$100K - $161K (Glassdoor est.)\n",
      "0\n",
      "Lorton, VA\n",
      "$120K (Glassdoor est.)\n",
      "0\n",
      "Dallas, TX\n",
      "$102K - $122K (Glassdoor est.)\n",
      "0\n"
     ]
    }
   ],
   "source": [
    "#This line will open a new chrome window and start the scraping.\n",
    "get_job_info('United States', \"data scientist\", 5)"
   ]
  },
  {
   "cell_type": "code",
   "execution_count": null,
   "metadata": {},
   "outputs": [],
   "source": []
  }
 ],
 "metadata": {
  "kernelspec": {
   "display_name": "Python 3",
   "language": "python",
   "name": "python3"
  },
  "language_info": {
   "codemirror_mode": {
    "name": "ipython",
    "version": 3
   },
   "file_extension": ".py",
   "mimetype": "text/x-python",
   "name": "python",
   "nbconvert_exporter": "python",
   "pygments_lexer": "ipython3",
   "version": "3.7.4"
  }
 },
 "nbformat": 4,
 "nbformat_minor": 2
}
