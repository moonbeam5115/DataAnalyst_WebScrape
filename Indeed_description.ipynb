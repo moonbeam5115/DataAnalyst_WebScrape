{
 "cells": [
  {
   "cell_type": "code",
   "execution_count": 38,
   "id": "worse-clothing",
   "metadata": {},
   "outputs": [],
   "source": [
    "import requests\n",
    "import  bs4\n",
    "from bs4 import BeautifulSoup\n",
    "\n",
    "import pandas\n",
    "import time\n",
    "import urllib\n",
    "import selenium\n",
    "from selenium import webdriver\n",
    "from selenium.webdriver.support.ui import WebDriverWait\n",
    "\n",
    "from datetime import datetime\n",
    "import pandas\n",
    "import os"
   ]
  },
  {
   "cell_type": "code",
   "execution_count": 39,
   "id": "invalid-pierre",
   "metadata": {},
   "outputs": [],
   "source": [
    "def initiate_driver(browser):\n",
    "    if browser == 'chrome':\n",
    "        driver = webdriver.Chrome(executable_path=('/Users/AlexMartinez/Desktop/DA Project/chromedriver'))\n",
    "        return driver"
   ]
  },
  {
   "cell_type": "code",
   "execution_count": 76,
   "id": "republican-choir",
   "metadata": {},
   "outputs": [],
   "source": [
    "url = 'https://www.indeed.com/'\n",
    "url2 = 'https://www.monster.com/'"
   ]
  },
  {
   "cell_type": "code",
   "execution_count": 41,
   "id": "explicit-ethnic",
   "metadata": {},
   "outputs": [],
   "source": [
    "driver = initiate_driver('chrome')\n",
    "driver.get(url)"
   ]
  },
  {
   "cell_type": "code",
   "execution_count": 45,
   "id": "stupid-organizer",
   "metadata": {},
   "outputs": [],
   "source": [
    "search_job = driver.find_element_by_xpath('//*[@id=\"text-input-what\"]')\n",
    "search_job.send_keys(['data analyst'])\n",
    "\n",
    "search_location = driver.find_element_by_xpath('//*[@id=\"text-input-where\"]')\n",
    "search_location.send_keys(['New York'])\n",
    "\n",
    "search_button = driver.find_element_by_xpath('//*[@id=\"whatWhereFormId\"]/div[3]/button')\n",
    "\n",
    "# add a way to clear search bar before searching\n"
   ]
  },
  {
   "cell_type": "code",
   "execution_count": 46,
   "id": "lightweight-physiology",
   "metadata": {},
   "outputs": [],
   "source": [
    "search_button.click()"
   ]
  },
  {
   "cell_type": "code",
   "execution_count": 14,
   "id": "maritime-london",
   "metadata": {},
   "outputs": [],
   "source": [
    "#test = 'https://www.indeed.com/jobs?q=data%20analyst&l=Brooklyn%2C%20NY&vjk=a4dd3b0cb66245a3'\n",
    "#driver = initiate_driver('chrome')\n",
    "driver.get(test)"
   ]
  },
  {
   "cell_type": "code",
   "execution_count": 48,
   "id": "central-layer",
   "metadata": {},
   "outputs": [
    {
     "name": "stderr",
     "output_type": "stream",
     "text": [
      "/Users/AlexMartinez/opt/anaconda3/lib/python3.7/site-packages/ipykernel_launcher.py:1: DeprecationWarning: use driver.switch_to.default_content instead\n",
      "  \"\"\"Entry point for launching an IPython kernel.\n",
      "/Users/AlexMartinez/opt/anaconda3/lib/python3.7/site-packages/ipykernel_launcher.py:6: DeprecationWarning: use driver.switch_to.default_content instead\n",
      "  \n",
      "/Users/AlexMartinez/opt/anaconda3/lib/python3.7/site-packages/ipykernel_launcher.py:9: DeprecationWarning: use driver.switch_to.frame instead\n",
      "  if __name__ == '__main__':\n"
     ]
    }
   ],
   "source": [
    "driver.switch_to_default_content()\n",
    "job_card = driver.find_elements_by_xpath('//div[contains(@class,\"clickcard\")]')\n",
    "lst_of_descriptions = []\n",
    "len(job_card)\n",
    "for job in job_card:\n",
    "    driver.switch_to_default_content()\n",
    "    job.click()\n",
    "    #driver.switch_to_default_content()\n",
    "    driver.switch_to_frame(driver.find_element_by_id('vjs-container-iframe'))\n",
    "    output = BeautifulSoup(driver.page_source,'html.parser')\n",
    "    var = output.find_all('div',id='jobDescriptionText')\n",
    "    out = ''\n",
    "    for i in var:\n",
    "        out += i.text\n",
    "        out += ' '\n",
    "    out.replace('\\n',' ')\n",
    "    lst_of_descriptions.append(out)"
   ]
  },
  {
   "cell_type": "code",
   "execution_count": 49,
   "id": "convertible-arrangement",
   "metadata": {
    "scrolled": true,
    "tags": []
   },
   "outputs": [
    {
     "data": {
      "text/plain": [
       "'Job Summary:\\nWe are looking for a Data Analyst to join our Partner Analytics team to support the reporting and analysis of Disney+ subscription distribution partners (such as Verizon). The role will visualize and develop dashboards and executive reports that enable visibility and quick insights into our rapidly growing and expanding business. This role requires acute attention to detail, a strong sense of accountability, collaboration skills, and hands-on experience with reporting and communicating data. You will be working on data analysis, KPI definitions, data investigations and the delivery of organized insights and ideas for rapid and clear communication.\\n\\nThe Subscriber Analytics function masters exploratory data analysis, advanced reporting, data modeling and visualizations that serve the dual purpose of driving business decision making and delivering fact-based actionable recommendations. This team collaborates cross-functionally across the Disney Streaming Services organization, as well as groups and stakeholders from business units across The Walt Disney Company to generate insightful, compelling and strategic analysis and plans. Product, Marketing, Engineering and Analytics teams will be your partners to execute on innovative methods and best-in-class practices that power all of our improvements. The team’s work will drive the development of business and operational plans that are expected to have broad influence at all levels of the organization.\\n\\nResponsibilities:\\nCreate, deliver and continuously iterate on reporting views focused on partner subscriber growth and behavior\\nPartner with Product and Engineering teams to deeply understand partner integrations and the underlying systems behavior\\nPartner closely with business stakeholders to identify and unlock opportunities to drive subscriber growth\\nWork with stakeholders to outline and define data definitions and apply across key metrics\\nAnalyze and report key data quality health KPIs through regular metric monitoring and revise as needed as the number of datasets and critical systems expand\\nAnalyze subscriber and behavior data to identify patterns, uncover opportunities, and create common understanding of how people are interacting with the platform and content\\nProvide ongoing reporting and analysis to inform and support business, product and marketing decisions\\nBasic Qualifications:\\n2+ years of hands-on analytical work experience with SQL and/or Python\\nProficiency with SQL\\nHigh familiarity with data platforms and applications such as Databricks, Jupyter, Snowflake, Redshift, Airflow\\nExpertise manipulating large data sets, interpreting data trends and using a multitude of disparate data sources and tools\\nExperience operating in an SDLC environment and deploying code\\nStrong analytical skills with the ability to apply business strategy to data analysis and recommendations\\nStrong experience in documenting the data requirements, data strategy, data rules (standardization, cleanse, and validation)\\nPerform root-cause analysis to identify patterns in financial and customer data sets, including subscriber acquisition and retention metrics\\nStrong analytical and technical skills to troubleshoot issues, analyze the cause, quickly come-up with the possible solutions, document the changes, and communicate organizational impact\\nAbility to evaluate risks and provide recommendations in a timely manner\\nExplain data anomalies, develop data visualizations and reporting to drive key messaging and recommendations\\nFamiliarity with data exploration and data visualization tools like Tableau or Looker. It’s a plus if you can share a portfolio of clear, intuitive and insightful visualizations\\nAbility to think strategically, analyze and interpret market and consumer information\\nPreferred Qualifications:\\nExperience in the streaming media industry or other subscription-based service\\nExperience in the technology industry, knowledge of data products\\nPython experience writing, managing and deploying code\\nBA or BS in a quantitative field (Business, Math/Statistics, Economics, CS, Engineering, or similar) is desired '"
      ]
     },
     "execution_count": 49,
     "metadata": {},
     "output_type": "execute_result"
    }
   ],
   "source": [
    "lst_of_descriptions[0]"
   ]
  },
  {
   "cell_type": "code",
   "execution_count": 18,
   "id": "consistent-press",
   "metadata": {},
   "outputs": [
    {
     "name": "stderr",
     "output_type": "stream",
     "text": [
      "/Users/AlexMartinez/opt/anaconda3/lib/python3.7/site-packages/ipykernel_launcher.py:1: DeprecationWarning: use driver.switch_to.default_content instead\n",
      "  \"\"\"Entry point for launching an IPython kernel.\n"
     ]
    },
    {
     "data": {
      "text/plain": [
       "15"
      ]
     },
     "execution_count": 18,
     "metadata": {},
     "output_type": "execute_result"
    }
   ],
   "source": [
    "driver.switch_to_default_content()\n",
    "job_card = driver.find_elements_by_xpath('//div[contains(@class,\"clickcard\")]')\n",
    "len(job_card)"
   ]
  },
  {
   "cell_type": "code",
   "execution_count": 201,
   "id": "material-truck",
   "metadata": {},
   "outputs": [
    {
     "data": {
      "text/plain": [
       "<bound method WebElement.click of <selenium.webdriver.remote.webelement.WebElement (session=\"085e5b792d2d36d9ba93796de91f5c22\", element=\"4e51d030-2334-4c9d-9149-9ec4652a822c\")>>"
      ]
     },
     "execution_count": 201,
     "metadata": {},
     "output_type": "execute_result"
    }
   ],
   "source": [
    "job_card[1].click\n"
   ]
  },
  {
   "cell_type": "code",
   "execution_count": 50,
   "id": "acute-chicago",
   "metadata": {},
   "outputs": [],
   "source": [
    "def get_record(card):\n",
    "    '''Extract job date from a single record '''\n",
    "    atag = card.h2.a\n",
    "    try:\n",
    "        job_title = atag.get('title')\n",
    "    except AttributeError:\n",
    "        job_title = ''\n",
    "    try:\n",
    "        company = card.find('span', 'company').text.strip()\n",
    "    except AttributeError:\n",
    "        company = ''\n",
    "    try:\n",
    "        location = card.find('div', 'recJobLoc').get('data-rc-loc')\n",
    "    except AttributeError:\n",
    "        location = ''\n",
    "    try:\n",
    "        job_summary = card.find('div', 'summary').text.strip()\n",
    "    except AttributeError:\n",
    "        job_summary = ''\n",
    "    try:\n",
    "        post_date = card.find('span', 'date').text.strip()\n",
    "    except AttributeError:\n",
    "        post_date = ''\n",
    "    try:\n",
    "        salary = card.find('span', 'salarytext').text.strip()\n",
    "    except AttributeError:\n",
    "        salary = ''\n",
    "    \n",
    "    extract_date = datetime.today().strftime('%Y-%m-%d')\n",
    "    job_url = 'https://www.indeed.com' + atag.get('href')\n",
    "    \n",
    "    try:\n",
    "        driver.switch_to_default_content()\n",
    "        driver.switch_to_frame(driver.find_element_by_id('vjs-container-iframe'))\n",
    "        output = BeautifulSoup(driver.page_source,'html.parser')\n",
    "        var = output.find_all('div',id='jobDescriptionText')\n",
    "        \n",
    "        description = ''\n",
    "        \n",
    "        for i in var:\n",
    "            description += i.text\n",
    "            decsription += ' '\n",
    "    except:\n",
    "        description = ''\n",
    "        \n",
    "    \n",
    "    return (job_title, company, location, job_summary, salary, post_date, extract_date, job_url,description)"
   ]
  },
  {
   "cell_type": "code",
   "execution_count": null,
   "id": "excited-measure",
   "metadata": {},
   "outputs": [],
   "source": []
  },
  {
   "cell_type": "code",
   "execution_count": null,
   "id": "described-bernard",
   "metadata": {
    "scrolled": true,
    "tags": []
   },
   "outputs": [],
   "source": []
  },
  {
   "cell_type": "code",
   "execution_count": null,
   "id": "classified-month",
   "metadata": {},
   "outputs": [],
   "source": []
  },
  {
   "cell_type": "code",
   "execution_count": null,
   "id": "focal-supplement",
   "metadata": {},
   "outputs": [],
   "source": []
  },
  {
   "cell_type": "code",
   "execution_count": null,
   "id": "revolutionary-dominant",
   "metadata": {},
   "outputs": [],
   "source": []
  },
  {
   "cell_type": "code",
   "execution_count": null,
   "id": "modular-zambia",
   "metadata": {},
   "outputs": [],
   "source": []
  },
  {
   "cell_type": "code",
   "execution_count": null,
   "id": "detected-regulation",
   "metadata": {},
   "outputs": [],
   "source": []
  },
  {
   "cell_type": "code",
   "execution_count": null,
   "id": "expressed-engineer",
   "metadata": {},
   "outputs": [],
   "source": []
  }
 ],
 "metadata": {
  "kernelspec": {
   "display_name": "Python 3",
   "language": "python",
   "name": "python3"
  },
  "language_info": {
   "codemirror_mode": {
    "name": "ipython",
    "version": 3
   },
   "file_extension": ".py",
   "mimetype": "text/x-python",
   "name": "python",
   "nbconvert_exporter": "python",
   "pygments_lexer": "ipython3",
   "version": "3.7.7"
  }
 },
 "nbformat": 4,
 "nbformat_minor": 5
}
